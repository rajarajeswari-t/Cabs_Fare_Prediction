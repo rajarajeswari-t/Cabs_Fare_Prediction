{
 "cells": [
  {
   "cell_type": "code",
   "execution_count": 11,
   "id": "f13f7678-a29d-4bb0-8129-7475635ad784",
   "metadata": {},
   "outputs": [
    {
     "name": "stderr",
     "output_type": "stream",
     "text": [
      "C:\\Users\\rajar\\AppData\\Local\\Temp\\ipykernel_7900\\2812692842.py:2: DtypeWarning: Columns (6) have mixed types. Specify dtype option on import or set low_memory=False.\n",
      "  df = pd.read_csv(r'C:\\Users\\rajar\\Downloads\\taxi_with_weather (1).csv')\n"
     ]
    },
    {
     "name": "stdout",
     "output_type": "stream",
     "text": [
      "         VendorID tpep_pickup_datetime         tpep_dropoff_datetime  \\\n",
      "0               2  2024-01-01 00:57:55  Mon Jan 01 01:17:43 UTC 2024   \n",
      "1               1  2024-01-01 00:03:00  Mon Jan 01 00:09:36 UTC 2024   \n",
      "2               1  2024-01-01 00:17:06  Mon Jan 01 00:35:01 UTC 2024   \n",
      "3               1  2024-01-01 00:36:38  Mon Jan 01 00:44:56 UTC 2024   \n",
      "4               1  2024-01-01 00:46:51  Mon Jan 01 00:52:57 UTC 2024   \n",
      "...           ...                  ...                           ...   \n",
      "3687060         2  2024-01-31 23:45:59  Wed Jan 31 23:54:36 UTC 2024   \n",
      "3687061         1  2024-01-31 23:13:07  Wed Jan 31 23:27:52 UTC 2024   \n",
      "3687062         2  2024-01-31 23:19:00  Wed Jan 31 23:38:00 UTC 2024   \n",
      "3687063         2  2024-01-31 23:07:23  Wed Jan 31 23:25:14 UTC 2024   \n",
      "3687064         1  2024-01-31 23:58:25  Thu Feb 01 00:13:30 UTC 2024   \n",
      "\n",
      "         passenger_count  trip_distance  RatecodeID store_and_fwd_flag  \\\n",
      "0                    1.0           1.72         1.0                  N   \n",
      "1                    1.0           1.80         1.0                  N   \n",
      "2                    1.0           4.70         1.0                  N   \n",
      "3                    1.0           1.40         1.0                  N   \n",
      "4                    1.0           0.80         1.0                  N   \n",
      "...                  ...            ...         ...                ...   \n",
      "3687060              NaN           3.18         NaN                NaN   \n",
      "3687061              NaN           4.00         NaN                NaN   \n",
      "3687062              NaN           3.33         NaN                NaN   \n",
      "3687063              NaN           3.06         NaN                NaN   \n",
      "3687064              NaN           8.10         NaN                NaN   \n",
      "\n",
      "         PULocationID  DOLocationID  payment_type  ...  Dew Point  Humidity  \\\n",
      "0                 186            79             2  ...      25 °F      64 %   \n",
      "1                 140           236             1  ...      27 °F      65 %   \n",
      "2                 236            79             1  ...      27 °F      65 %   \n",
      "3                  79           211             1  ...      25 °F      64 %   \n",
      "4                 211           148             1  ...      25 °F      64 %   \n",
      "...               ...           ...           ...  ...        ...       ...   \n",
      "3687060           107           263             0  ...        NaN       NaN   \n",
      "3687061           114           236             0  ...      30 °F      70 %   \n",
      "3687062           211            25             0  ...      30 °F      70 %   \n",
      "3687063           107            13             0  ...      30 °F      70 %   \n",
      "3687064           138            75             0  ...        NaN       NaN   \n",
      "\n",
      "         Wind  Wind Speed  Wind Gust  Pressure  Precip.      Condition  \\\n",
      "0           N       8 mph      0 mph  30.06 in   0.0 in           Fair   \n",
      "1         NNW      12 mph      0 mph  30.06 in   0.0 in           Fair   \n",
      "2         NNW      12 mph      0 mph  30.06 in   0.0 in           Fair   \n",
      "3           N       8 mph      0 mph  30.06 in   0.0 in           Fair   \n",
      "4           N       8 mph      0 mph  30.06 in   0.0 in           Fair   \n",
      "...       ...         ...        ...       ...      ...            ...   \n",
      "3687060   NaN         NaN        NaN       NaN      NaN            NaN   \n",
      "3687061    NW       5 mph      0 mph  30.06 in   0.0 in  Mostly Cloudy   \n",
      "3687062    NW       5 mph      0 mph  30.06 in   0.0 in  Mostly Cloudy   \n",
      "3687063    NW       5 mph      0 mph  30.06 in   0.0 in  Mostly Cloudy   \n",
      "3687064   NaN         NaN        NaN       NaN      NaN            NaN   \n",
      "\n",
      "               Date Time_24h  \n",
      "0        01-01-2024    01:21  \n",
      "1        01-01-2024    00:21  \n",
      "2        01-01-2024    00:21  \n",
      "3        01-01-2024    01:21  \n",
      "4        01-01-2024    01:21  \n",
      "...             ...      ...  \n",
      "3687060         NaN      NaN  \n",
      "3687061  31-01-2024    23:21  \n",
      "3687062  31-01-2024    23:21  \n",
      "3687063  31-01-2024    23:21  \n",
      "3687064         NaN      NaN  \n",
      "\n",
      "[3687065 rows x 32 columns]\n"
     ]
    }
   ],
   "source": [
    "import pandas as pd\n",
    "df = pd.read_csv(r'C:\\Users\\rajar\\Downloads\\taxi_with_weather (1).csv')\n",
    "print(df)"
   ]
  },
  {
   "cell_type": "code",
   "execution_count": 14,
   "id": "fadd6b34-97e0-4355-ae9b-d4f65a98286a",
   "metadata": {},
   "outputs": [
    {
     "name": "stdout",
     "output_type": "stream",
     "text": [
      "VendorID                 0\n",
      "tpep_pickup_datetime     0\n",
      "tpep_dropoff_datetime    0\n",
      "passenger_count          0\n",
      "trip_distance            0\n",
      "RatecodeID               0\n",
      "store_and_fwd_flag       0\n",
      "PULocationID             0\n",
      "DOLocationID             0\n",
      "payment_type             0\n",
      "fare_amount              0\n",
      "extra                    0\n",
      "mta_tax                  0\n",
      "tip_amount               0\n",
      "tolls_amount             0\n",
      "improvement_surcharge    0\n",
      "total_amount             0\n",
      "congestion_surcharge     0\n",
      "Airport_fee              0\n",
      "pickup_hour              0\n",
      "Time                     0\n",
      "Temperature              0\n",
      "Dew Point                0\n",
      "Humidity                 0\n",
      "Wind                     0\n",
      "Wind Speed               0\n",
      "Wind Gust                0\n",
      "Pressure                 0\n",
      "Precip.                  0\n",
      "Condition                0\n",
      "Date                     0\n",
      "Time_24h                 0\n",
      "dtype: int64\n"
     ]
    }
   ],
   "source": [
    "null_counts = df.isnull().sum()\n",
    "print(null_counts)"
   ]
  },
  {
   "cell_type": "code",
   "execution_count": 15,
   "id": "f6b2249d-3432-47df-a2a5-fa08d1b083cc",
   "metadata": {},
   "outputs": [
    {
     "name": "stdout",
     "output_type": "stream",
     "text": [
      "VendorID                 0\n",
      "tpep_pickup_datetime     0\n",
      "tpep_dropoff_datetime    0\n",
      "passenger_count          0\n",
      "trip_distance            0\n",
      "RatecodeID               0\n",
      "store_and_fwd_flag       0\n",
      "PULocationID             0\n",
      "DOLocationID             0\n",
      "payment_type             0\n",
      "fare_amount              0\n",
      "extra                    0\n",
      "mta_tax                  0\n",
      "tip_amount               0\n",
      "tolls_amount             0\n",
      "improvement_surcharge    0\n",
      "total_amount             0\n",
      "congestion_surcharge     0\n",
      "Airport_fee              0\n",
      "pickup_hour              0\n",
      "Time                     0\n",
      "Temperature              0\n",
      "Dew Point                0\n",
      "Humidity                 0\n",
      "Wind                     0\n",
      "Wind Speed               0\n",
      "Wind Gust                0\n",
      "Pressure                 0\n",
      "Precip.                  0\n",
      "Condition                0\n",
      "Date                     0\n",
      "Time_24h                 0\n",
      "dtype: int64\n"
     ]
    },
    {
     "data": {
      "text/plain": [
       "(3349672, 32)"
      ]
     },
     "execution_count": 15,
     "metadata": {},
     "output_type": "execute_result"
    }
   ],
   "source": [
    "# Remove rows with any null values\n",
    "df = df.dropna()\n",
    "null_counts = df.isnull().sum()\n",
    "\n",
    "# Display null values count for each column\n",
    "print(null_counts)\n",
    "df.shape"
   ]
  },
  {
   "cell_type": "code",
   "execution_count": 16,
   "id": "f5c06123-e12a-4a19-a7f6-f05be2adf34e",
   "metadata": {},
   "outputs": [
    {
     "name": "stdout",
     "output_type": "stream",
     "text": [
      "         VendorID tpep_pickup_datetime         tpep_dropoff_datetime  \\\n",
      "0               2  2024-01-01 00:57:55  Mon Jan 01 01:17:43 UTC 2024   \n",
      "1               1  2024-01-01 00:03:00  Mon Jan 01 00:09:36 UTC 2024   \n",
      "2               1  2024-01-01 00:17:06  Mon Jan 01 00:35:01 UTC 2024   \n",
      "3               1  2024-01-01 00:36:38  Mon Jan 01 00:44:56 UTC 2024   \n",
      "4               1  2024-01-01 00:46:51  Mon Jan 01 00:52:57 UTC 2024   \n",
      "...           ...                  ...                           ...   \n",
      "3513391         2  2024-01-31 23:15:08  Wed Jan 31 23:29:33 UTC 2024   \n",
      "3513392         2  2024-01-31 23:10:28  Wed Jan 31 23:18:30 UTC 2024   \n",
      "3513393         2  2024-01-31 23:01:04  Wed Jan 31 23:17:35 UTC 2024   \n",
      "3513394         1  2024-01-31 23:08:13  Wed Jan 31 23:25:00 UTC 2024   \n",
      "3513396         2  2024-01-31 23:03:26  Wed Jan 31 23:09:12 UTC 2024   \n",
      "\n",
      "         passenger_count  trip_distance  RatecodeID store_and_fwd_flag  \\\n",
      "0                    1.0           1.72         1.0                  N   \n",
      "1                    1.0           1.80         1.0                  N   \n",
      "2                    1.0           4.70         1.0                  N   \n",
      "3                    1.0           1.40         1.0                  N   \n",
      "4                    1.0           0.80         1.0                  N   \n",
      "...                  ...            ...         ...                ...   \n",
      "3513391              1.0           7.68         1.0                  N   \n",
      "3513392              1.0           3.51         1.0                  N   \n",
      "3513393              1.0           3.36         1.0                  N   \n",
      "3513394              3.0           3.30         1.0                  N   \n",
      "3513396              1.0           1.58         1.0                  N   \n",
      "\n",
      "         PULocationID  DOLocationID  payment_type  ...  Humidity  Wind  \\\n",
      "0                 186            79             2  ...      64 %     N   \n",
      "1                 140           236             1  ...      65 %   NNW   \n",
      "2                 236            79             1  ...      65 %   NNW   \n",
      "3                  79           211             1  ...      64 %     N   \n",
      "4                 211           148             1  ...      64 %     N   \n",
      "...               ...           ...           ...  ...       ...   ...   \n",
      "3513391           230           243             1  ...      70 %    NW   \n",
      "3513392           138           129             1  ...      70 %    NW   \n",
      "3513393           162           261             1  ...      70 %    NW   \n",
      "3513394            43           249             1  ...      70 %    NW   \n",
      "3513396           140           263             1  ...      70 %    NW   \n",
      "\n",
      "         Wind Speed  Wind Gust  Pressure  Precip.      Condition        Date  \\\n",
      "0             8 mph      0 mph  30.06 in   0.0 in           Fair  01-01-2024   \n",
      "1            12 mph      0 mph  30.06 in   0.0 in           Fair  01-01-2024   \n",
      "2            12 mph      0 mph  30.06 in   0.0 in           Fair  01-01-2024   \n",
      "3             8 mph      0 mph  30.06 in   0.0 in           Fair  01-01-2024   \n",
      "4             8 mph      0 mph  30.06 in   0.0 in           Fair  01-01-2024   \n",
      "...             ...        ...       ...      ...            ...         ...   \n",
      "3513391       5 mph      0 mph  30.06 in   0.0 in  Mostly Cloudy  31-01-2024   \n",
      "3513392       5 mph      0 mph  30.06 in   0.0 in  Mostly Cloudy  31-01-2024   \n",
      "3513393       5 mph      0 mph  30.06 in   0.0 in  Mostly Cloudy  31-01-2024   \n",
      "3513394       5 mph      0 mph  30.06 in   0.0 in  Mostly Cloudy  31-01-2024   \n",
      "3513396       5 mph      0 mph  30.06 in   0.0 in  Mostly Cloudy  31-01-2024   \n",
      "\n",
      "         Time_24h Condition_Code  \n",
      "0           01:21            5.0  \n",
      "1           00:21            5.0  \n",
      "2           00:21            5.0  \n",
      "3           01:21            5.0  \n",
      "4           01:21            5.0  \n",
      "...           ...            ...  \n",
      "3513391     23:21            3.0  \n",
      "3513392     23:21            3.0  \n",
      "3513393     23:21            3.0  \n",
      "3513394     23:21            3.0  \n",
      "3513396     23:21            3.0  \n",
      "\n",
      "[3349672 rows x 33 columns]\n"
     ]
    }
   ],
   "source": [
    "weather_mapping = {\"Cloudy\":1,\n",
    "\"Light Rain\":2,\n",
    "\"Mostly Cloudy\":3,\n",
    "\"Partly Cloudy\":4,\n",
    "\"Fair\":5,\n",
    "\"Mostly Cloudy / Windy\":6,\n",
    "\"Light Snow\":7,\n",
    "\"Fair / Windy\":8,\n",
    "\"Rain\":9,\n",
    "\"Light Rain / Windy\":10,\n",
    "\"Heavy Rain / Windy\":11,\n",
    "\"Wintry Mix\":12,\n",
    "\"Cloudy / Windy\":13,\n",
    "\"Light Snow / Windy\":14,\n",
    "\"Fog\":15,\n",
    "\"Light Drizzle\": 16,\n",
    "\"Drizzle and Fog\":17,\n",
    "\"Mist\":18,\n",
    "\"Light Freezing Rain\":19,\n",
    "\"Heavy Rain\":20,\n",
    "\"Rain / Windy\":21,\n",
    "\"Light Snow and Sleet\":22,\n",
    "}\n",
    "df['Condition_Code'] = df['Condition'].map(weather_mapping)\n",
    "\n",
    "print(df)\n"
   ]
  },
  {
   "cell_type": "code",
   "execution_count": 17,
   "id": "093725f4-a9c0-4630-82c1-c5a59ec91145",
   "metadata": {},
   "outputs": [
    {
     "name": "stdout",
     "output_type": "stream",
     "text": [
      "           VendorID  passenger_count  trip_distance    RatecodeID  \\\n",
      "count  3.349672e+06     3.349672e+06   3.349672e+06  3.349672e+06   \n",
      "mean   1.756687e+00     1.335010e+00   3.253785e+00  2.191964e+00   \n",
      "std    4.290826e-01     8.473858e-01   1.128101e+01  1.039865e+01   \n",
      "min    1.000000e+00     0.000000e+00   0.000000e+00  1.000000e+00   \n",
      "25%    2.000000e+00     1.000000e+00   1.000000e+00  1.000000e+00   \n",
      "50%    2.000000e+00     1.000000e+00   1.660000e+00  1.000000e+00   \n",
      "75%    2.000000e+00     1.000000e+00   3.100000e+00  1.000000e+00   \n",
      "max    2.000000e+00     9.000000e+00   1.540032e+04  9.900000e+01   \n",
      "\n",
      "       PULocationID  DOLocationID  payment_type   fare_amount         extra  \\\n",
      "count  3.349672e+06  3.349672e+06  3.349672e+06  3.349672e+06  3.349672e+06   \n",
      "mean   1.662533e+02  1.654007e+02  1.220229e+00  1.815248e+01  1.465461e+00   \n",
      "std    6.336097e+01  6.908595e+01  5.340385e-01  1.926076e+01  1.803307e+00   \n",
      "min    1.000000e+00  1.000000e+00  1.000000e+00 -8.990000e+02 -7.500000e+00   \n",
      "25%    1.320000e+02  1.160000e+02  1.000000e+00  8.600000e+00  0.000000e+00   \n",
      "50%    1.620000e+02  1.620000e+02  1.000000e+00  1.280000e+01  1.000000e+00   \n",
      "75%    2.340000e+02  2.340000e+02  1.000000e+00  1.980000e+01  2.500000e+00   \n",
      "max    2.650000e+02  2.650000e+02  4.000000e+00  5.000000e+03  1.425000e+01   \n",
      "\n",
      "            mta_tax    tip_amount  tolls_amount  improvement_surcharge  \\\n",
      "count  3.349672e+06  3.349672e+06  3.349672e+06           3.349672e+06   \n",
      "mean   4.824723e-01  3.417776e+00  5.429455e-01           9.744489e-01   \n",
      "std    1.208355e-01  3.928459e+00  2.170999e+00           2.238114e-01   \n",
      "min   -5.000000e-01 -8.000000e+01 -8.000000e+01          -1.000000e+00   \n",
      "25%    5.000000e-01  1.000000e+00  0.000000e+00           1.000000e+00   \n",
      "50%    5.000000e-01  2.740000e+00  0.000000e+00           1.000000e+00   \n",
      "75%    5.000000e-01  4.200000e+00  0.000000e+00           1.000000e+00   \n",
      "max    4.000000e+00  4.280000e+02  1.159200e+02           1.000000e+00   \n",
      "\n",
      "       total_amount  congestion_surcharge   Airport_fee  Condition_Code  \\\n",
      "count  3.349672e+06          3.349672e+06  3.349672e+06    3.321698e+06   \n",
      "mean   2.686068e+01          2.252753e+00  1.377594e-01    5.254034e+00   \n",
      "std    2.378363e+01          8.277188e-01  4.822681e-01    4.873167e+00   \n",
      "min   -9.000000e+02         -2.500000e+00 -1.750000e+00    1.000000e+00   \n",
      "25%    1.512000e+01          2.500000e+00  0.000000e+00    1.000000e+00   \n",
      "50%    1.990000e+01          2.500000e+00  0.000000e+00    4.000000e+00   \n",
      "75%    2.856000e+01          2.500000e+00  0.000000e+00    7.000000e+00   \n",
      "max    5.000000e+03          2.500000e+00  1.750000e+00    2.200000e+01   \n",
      "\n",
      "       new_fare_amount  \n",
      "count     3.349672e+06  \n",
      "mean      2.686068e+01  \n",
      "std       2.378363e+01  \n",
      "min      -9.000000e+02  \n",
      "25%       1.512000e+01  \n",
      "50%       1.990000e+01  \n",
      "75%       2.856000e+01  \n",
      "max       5.000000e+03  \n"
     ]
    }
   ],
   "source": [
    "condition_to_change = [2,7,9,10,11,14,19,20,21,22]\n",
    "\n",
    "# Create a new column where the fare amount increases by 10% if the condition matches\n",
    "df['new_fare_amount'] = df.apply(lambda row: row['total_amount'] * 1.10 if row['Condition_Code'] == condition_to_change else row['total_amount'],axis=1)\n",
    "\n",
    "print(df.describe())\n"
   ]
  },
  {
   "cell_type": "code",
   "execution_count": 18,
   "id": "e31733e5-42d3-40e6-b040-9502569837c4",
   "metadata": {},
   "outputs": [],
   "source": [
    "df['tpep_pickup_datetime'] = pd.to_datetime(df['tpep_pickup_datetime'])\n",
    "df['tpep_dropoff_datetime'] = pd.to_datetime(df['tpep_dropoff_datetime'])\n",
    "\n",
    "# Extracting features from pickup_time\n",
    "df['pickup_hour'] = df['tpep_pickup_datetime'].dt.hour\n",
    "df['pickup_minute'] = df['tpep_pickup_datetime'].dt.minute\n",
    "df['pickup_dayofweek'] = df['tpep_pickup_datetime'].dt.dayofweek  # Monday=0, Sunday=6\n",
    "\n",
    "# Extracting features from drop_time\n",
    "df['drop_hour'] = df['tpep_dropoff_datetime'].dt.hour\n",
    "df['drop_minute'] = df['tpep_dropoff_datetime'].dt.minute\n",
    "df['drop_dayofweek'] = df['tpep_dropoff_datetime'].dt.dayofweek  # Monday=0, Sunday=6"
   ]
  },
  {
   "cell_type": "code",
   "execution_count": 19,
   "id": "a910912c-aa6b-49e4-81f6-9e8483a71069",
   "metadata": {},
   "outputs": [],
   "source": [
    "features=['VendorID','pickup_hour','drop_hour','trip_distance','passenger_count','PULocationID','DOLocationID','payment_type','Condition_Code']\n",
    "x=df[features]\n",
    "y=df['new_fare_amount']"
   ]
  },
  {
   "cell_type": "code",
   "execution_count": 20,
   "id": "ec2c4183-ee66-4c7e-bf8e-0056b2d5d645",
   "metadata": {},
   "outputs": [],
   "source": [
    "import numpy as np\n",
    "\n",
    "def quantile_normalize(df):\n",
    "    sorted_df = pd.DataFrame(np.sort(df.values, axis=0), index=df.index, columns=df.columns)\n",
    "    rank_means = sorted_df.mean(axis=1)\n",
    "    rank_dict = {rank: mean for rank, mean in enumerate(rank_means)}\n",
    "    return df.rank(method=\"min\").stack().astype(int).map(rank_dict).unstack()\n",
    "\n",
    "quantile_normalized_data = quantile_normalize(x) - 0.5"
   ]
  },
  {
   "cell_type": "code",
   "execution_count": 21,
   "id": "f2044c00-514e-4f34-9b05-404af6451211",
   "metadata": {},
   "outputs": [],
   "source": [
    "from sklearn.model_selection import train_test_split\n",
    "x_train,x_test,y_train,y_test=train_test_split(quantile_normalized_data,y,test_size=0.20,random_state=0)"
   ]
  },
  {
   "cell_type": "code",
   "execution_count": 22,
   "id": "b086b7ed-1450-41f0-a0d8-a7bbf8a8800c",
   "metadata": {},
   "outputs": [
    {
     "name": "stdout",
     "output_type": "stream",
     "text": [
      "True\n",
      "False\n",
      "False\n",
      "False\n"
     ]
    }
   ],
   "source": [
    "import numpy as np\n",
    "\n",
    "# Check for NaNs or Infinities in the data\n",
    "print(np.any(np.isnan(x_train)))\n",
    "print(np.any(np.isinf(x_train)))\n",
    "print(np.any(np.isnan(y_train)))\n",
    "print(np.any(np.isinf(y_train)))"
   ]
  },
  {
   "cell_type": "code",
   "execution_count": 23,
   "id": "7a4ab82a-6de6-4693-9ca5-0ea2462a457f",
   "metadata": {},
   "outputs": [],
   "source": [
    "# Remove NaNs from both x_train and y_train simultaneously based on x_train's NaN values\n",
    "mask = ~np.isnan(x_train).any(axis=1)\n",
    "x_train = x_train[mask]\n",
    "y_train = y_train.loc[x_train.index]  # Use .loc to align indices\n",
    "\n",
    "# Repeat for infinite values\n",
    "mask = ~np.isinf(x_train).any(axis=1)\n",
    "x_train = x_train[mask]\n",
    "y_train = y_train.loc[x_train.index]  # Use .loc to align indices\n",
    "\n",
    "# Fill NaNs with the mean of each feature in x_train (if still needed)\n",
    "x_train = np.where(np.isnan(x_train), np.nanmean(x_train, axis=0), x_train)\n",
    "\n",
    "# Alternatively, fill with a constant value like zero\n",
    "x_train = np.nan_to_num(x_train, nan=0.0)"
   ]
  },
  {
   "cell_type": "code",
   "execution_count": 24,
   "id": "8cf90a0b-a0d6-4011-99b3-22af48309a97",
   "metadata": {},
   "outputs": [
    {
     "name": "stdout",
     "output_type": "stream",
     "text": [
      "x_train shape: (2657340, 9)\n",
      "y_train shape: (2657340,)\n"
     ]
    }
   ],
   "source": [
    "# Check lengths\n",
    "print(f\"x_train shape: {x_train.shape}\")\n",
    "print(f\"y_train shape: {y_train.shape}\")\n",
    "\n",
    "# If they have different lengths, investigate why"
   ]
  },
  {
   "cell_type": "code",
   "execution_count": 25,
   "id": "dd0d676f-5fe4-409c-b44c-d7165e61fb61",
   "metadata": {},
   "outputs": [
    {
     "name": "stdout",
     "output_type": "stream",
     "text": [
      "False\n",
      "False\n",
      "False\n",
      "False\n"
     ]
    }
   ],
   "source": [
    "import numpy as np\n",
    "\n",
    "# Check for NaNs or Infinities in the data\n",
    "print(np.any(np.isnan(x_train)))\n",
    "print(np.any(np.isinf(x_train)))\n",
    "print(np.any(np.isnan(y_train)))\n",
    "print(np.any(np.isinf(y_train)))"
   ]
  },
  {
   "cell_type": "code",
   "execution_count": null,
   "id": "0e98a60e-b24d-4f82-ae33-6c77f537607b",
   "metadata": {},
   "outputs": [],
   "source": [
    "from tensorflow import keras\n",
    "from keras.models import Sequential\n",
    "from keras.layers import LeakyReLU\n",
    "from keras.layers import Dense\n",
    "from keras.optimizers import Adam"
   ]
  },
  {
   "cell_type": "code",
   "execution_count": null,
   "id": "83596883-7ca5-4f9c-ae6f-857669cff765",
   "metadata": {},
   "outputs": [],
   "source": [
    "import tensorflow as tf\n",
    "from tensorflow.keras.layers import Dropout, BatchNormalization,Dense,LeakyReLU\n",
    "from tensorflow.keras.optimizers.schedules import ExponentialDecay\n",
    "from tensorflow.keras.optimizers import Adam\n",
    "from tensorflow.keras.models import Sequential\n",
    "\n",
    "\n",
    "model = Sequential()\n",
    "model.add(Dense(200, input_shape=(9,)))\n",
    "model.add(LeakyReLU(alpha=0.01))\n",
    "model.add(BatchNormalization())\n",
    "model.add(Dense(200))\n",
    "model.add(LeakyReLU(alpha=0.01))\n",
    "model.add(Dropout(0.3))\n",
    "model.add(Dense(200))\n",
    "model.add(LeakyReLU(alpha=0.01))\n",
    "model.add(BatchNormalization())\n",
    "model.add(Dense(200))\n",
    "model.add(LeakyReLU(alpha=0.01))\n",
    "model.add(Dropout(0.3))\n",
    "model.add(Dense(200))\n",
    "model.add(LeakyReLU(alpha=0.01))\n",
    "model.add(BatchNormalization())\n",
    "model.add(Dense(200))\n",
    "model.add(LeakyReLU(alpha=0.01))\n",
    "model.add(Dropout(0.3))\n",
    "model.add(Dense(200))\n",
    "model.add(LeakyReLU(alpha=0.01))\n",
    "model.add(BatchNormalization())\n",
    "model.add(Dense(1, activation='linear'))\n",
    "from tensorflow.keras.callbacks import ReduceLROnPlateau\n",
    "\n",
    "lr_reduction = ReduceLROnPlateau(\n",
    "    monitor='val_loss',\n",
    "    factor=0.5,\n",
    "    patience=5,\n",
    "    min_lr=0.00001\n",
    ")\n",
    "\n",
    "#Use an optimizer like Adam\n",
    "optimizer = Adam()\n",
    "def pseudo_huber_loss(delta=1.0):\n",
    "    def loss(y_true, y_pred):\n",
    "        error = y_pred - y_true\n",
    "        return tf.reduce_mean(delta**2 * (tf.sqrt(1 + (error / delta)**2) - 1))\n",
    "    return loss\n",
    "\n",
    "# Pass the optimizer to the compile method and the callback to fit\n",
    "model.compile(optimizer=optimizer, loss= pseudo_huber_loss(delta=1.0), metrics=['accuracy'])\n",
    "model.fit(x_train, y_train, epochs=2, batch_size=32, callbacks=[lr_reduction])"
   ]
  },
  {
   "cell_type": "code",
   "execution_count": 4,
   "id": "dd516f51-1961-4ff6-a350-8d4606dc7d6a",
   "metadata": {},
   "outputs": [
    {
     "ename": "NameError",
     "evalue": "name 'model' is not defined",
     "output_type": "error",
     "traceback": [
      "\u001b[1;31m---------------------------------------------------------------------------\u001b[0m",
      "\u001b[1;31mNameError\u001b[0m                                 Traceback (most recent call last)",
      "Cell \u001b[1;32mIn[4], line 4\u001b[0m\n\u001b[0;32m      1\u001b[0m \u001b[38;5;28;01mimport\u001b[39;00m \u001b[38;5;21;01mjoblib\u001b[39;00m\n\u001b[0;32m      2\u001b[0m \u001b[38;5;28;01mfrom\u001b[39;00m \u001b[38;5;21;01mkeras\u001b[39;00m\u001b[38;5;21;01m.\u001b[39;00m\u001b[38;5;21;01mmodels\u001b[39;00m \u001b[38;5;28;01mimport\u001b[39;00m Sequential\n\u001b[1;32m----> 4\u001b[0m model_json \u001b[38;5;241m=\u001b[39m \u001b[43mmodel\u001b[49m\u001b[38;5;241m.\u001b[39mto_json()\n\u001b[0;32m      5\u001b[0m \u001b[38;5;28;01mwith\u001b[39;00m \u001b[38;5;28mopen\u001b[39m(\u001b[38;5;124m'\u001b[39m\u001b[38;5;124mmodel_architecture1.json\u001b[39m\u001b[38;5;124m'\u001b[39m, \u001b[38;5;124m'\u001b[39m\u001b[38;5;124mw\u001b[39m\u001b[38;5;124m'\u001b[39m) \u001b[38;5;28;01mas\u001b[39;00m json_file:\n\u001b[0;32m      6\u001b[0m     json_file\u001b[38;5;241m.\u001b[39mwrite(model_json)\n",
      "\u001b[1;31mNameError\u001b[0m: name 'model' is not defined"
     ]
    }
   ],
   "source": [
    "import joblib\n",
    "from keras.models import Sequential\n",
    "\n",
    "model_json = model.to_json()\n",
    "with open('model_architecture1.json', 'w') as json_file:\n",
    "    json_file.write(model_json)\n",
    "joblib.dump(model.get_weights(), 'model_weights1.joblib')\n"
   ]
  },
  {
   "cell_type": "code",
   "execution_count": 26,
   "id": "dac28bed-da4d-4320-b196-999088910a6d",
   "metadata": {},
   "outputs": [],
   "source": [
    "import joblib\n",
    "from keras.models import model_from_json\n",
    "\n",
    "def pseudo_huber_loss(delta=1.0):\n",
    "    def loss(y_true, y_pred):\n",
    "        error = y_pred - y_true\n",
    "        return tf.reduce_mean(delta**2 * (tf.sqrt(1 + (error / delta)**2) - 1))\n",
    "    return loss\n",
    "\n",
    "with open(r'C:\\Users\\rajar\\Downloads\\model_architecture - Copy.json') as json_file:\n",
    "    loaded_model_json = json_file.read()\n",
    "\n",
    "loaded_model = model_from_json(loaded_model_json, custom_objects={'loss': pseudo_huber_loss})\n",
    "\n",
    "\n",
    "model_weights = joblib.load(r'C:\\Users\\rajar\\Downloads\\model_weights.joblib')\n",
    "loaded_model.set_weights(model_weights)"
   ]
  },
  {
   "cell_type": "code",
   "execution_count": 27,
   "id": "f83bd11f-252b-4626-a5fa-950e5053ded9",
   "metadata": {},
   "outputs": [],
   "source": [
    "import tensorflow as tf\n",
    "from keras.callbacks import ReduceLROnPlateau\n",
    "\n",
    "def pseudo_huber_loss(delta=1.0):\n",
    "    def loss(y_true, y_pred):\n",
    "        error = y_pred - y_true\n",
    "        return tf.reduce_mean(delta**2 * (tf.sqrt(1 + (error / delta)**2) - 1))\n",
    "    return loss\n",
    "\n",
    "loaded_model.compile(optimizer='adam', loss=pseudo_huber_loss(), metrics=['mae'])\n"
   ]
  },
  {
   "cell_type": "code",
   "execution_count": 30,
   "id": "b35c2e66-aafc-4f44-b5ee-490217451518",
   "metadata": {},
   "outputs": [
    {
     "name": "stdout",
     "output_type": "stream",
     "text": [
      "\u001b[1m20936/20936\u001b[0m \u001b[32m━━━━━━━━━━━━━━━━━━━━\u001b[0m\u001b[37m\u001b[0m \u001b[1m50s\u001b[0m 2ms/step\n",
      "[[24.274944]\n",
      " [17.852722]\n",
      " [19.940054]\n",
      " ...\n",
      " [21.918846]\n",
      " [15.03009 ]\n",
      " [15.9725  ]]\n",
      "Mean Squared Error: 817.7269540496982\n",
      "Mean Absolute Error: 5.074973725500574\n"
     ]
    }
   ],
   "source": [
    "from sklearn.metrics import mean_squared_error, mean_absolute_error\n",
    "\n",
    "predictions = loaded_model.predict(x_test)\n",
    "print(predictions)\n",
    "predictions = np.nan_to_num(predictions)\n",
    "\n",
    "mse = mean_squared_error(y_test, predictions)\n",
    "mae = mean_absolute_error(y_test, predictions)\n",
    "\n",
    "print(\"Mean Squared Error:\", mse)\n",
    "print(\"Mean Absolute Error:\", mae)"
   ]
  },
  {
   "cell_type": "code",
   "execution_count": 39,
   "id": "4236e004-7e62-4359-89a0-658786b9ca65",
   "metadata": {},
   "outputs": [
    {
     "name": "stdout",
     "output_type": "stream",
     "text": [
      "\u001b[1m1/1\u001b[0m \u001b[32m━━━━━━━━━━━━━━━━━━━━\u001b[0m\u001b[37m\u001b[0m \u001b[1m0s\u001b[0m 32ms/step\n",
      "[[13.996908]]\n"
     ]
    }
   ],
   "source": [
    "x_new=np.array([1,0,0,1.80,1.0,140.0,0.0,5.0,0.0])\n",
    "new_prediction = loaded_model.predict(x_new.reshape(1,-1))\n",
    "print(new_prediction)"
   ]
  },
  {
   "cell_type": "code",
   "execution_count": 27,
   "id": "52b3c56f-c2ed-463f-b830-e7fb0b1ff6f6",
   "metadata": {},
   "outputs": [
    {
     "data": {
      "image/png": "[encoded data removed]",
      "text/plain": [
       "<Figure size 1200x600 with 1 Axes>"
      ]
     },
     "metadata": {},
     "output_type": "display_data"
    }
   ],
   "source": [
    "import matplotlib.pyplot as plt\n",
    "\n",
    "# Plot Predicted vs Actual Values\n",
    "plt.figure(figsize=(12, 6))\n",
    "\n",
    "plt.scatter(y_test, predictions, color='blue', label='Predictions')\n",
    "plt.plot([min(y_test), max(y_test)], [min(y_test), max(y_test)], color='red', linestyle='--', label='Perfect Prediction')\n",
    "\n",
    "plt.title('Predicted vs Actual Values')\n",
    "plt.xlabel('Actual Values')\n",
    "plt.ylabel('Predicted Values')\n",
    "plt.legend()\n",
    "plt.grid(True)\n",
    "plt.show()\n"
   ]
  },
  {
   "cell_type": "code",
   "execution_count": 31,
   "id": "dbbdfc0d-ad70-43f7-a38f-545a6ce3c5ac",
   "metadata": {},
   "outputs": [
    {
     "ename": "MemoryError",
     "evalue": "Unable to allocate 1.63 TiB for an array with shape (669935, 669935) and data type float32",
     "output_type": "error",
     "traceback": [
      "\u001b[1;31m---------------------------------------------------------------------------\u001b[0m",
      "\u001b[1;31mMemoryError\u001b[0m                               Traceback (most recent call last)",
      "Cell \u001b[1;32mIn[31], line 15\u001b[0m\n\u001b[0;32m     12\u001b[0m predictions \u001b[38;5;241m=\u001b[39m np\u001b[38;5;241m.\u001b[39marray(predictions, dtype\u001b[38;5;241m=\u001b[39mnp\u001b[38;5;241m.\u001b[39mfloat32)\n\u001b[0;32m     14\u001b[0m \u001b[38;5;66;03m# Calculate residuals\u001b[39;00m\n\u001b[1;32m---> 15\u001b[0m residuals \u001b[38;5;241m=\u001b[39m \u001b[43my_test\u001b[49m\u001b[43m \u001b[49m\u001b[38;5;241;43m-\u001b[39;49m\u001b[43m \u001b[49m\u001b[43mpredictions\u001b[49m\n",
      "\u001b[1;31mMemoryError\u001b[0m: Unable to allocate 1.63 TiB for an array with shape (669935, 669935) and data type float32"
     ]
    }
   ],
   "source": [
    "import numpy as np\n",
    "import pandas as pd\n",
    "\n",
    "# Convert y_test and predictions to numpy arrays if they are pandas Series or DataFrames\n",
    "if isinstance(y_test, pd.Series):\n",
    "    y_test = y_test.values\n",
    "if isinstance(predictions, pd.Series):\n",
    "    predictions = predictions.values\n",
    "\n",
    "# Ensure both are of the same data type\n",
    "y_test = np.array(y_test, dtype=np.float32)\n",
    "predictions = np.array(predictions, dtype=np.float32)\n",
    "\n",
    "# Calculate residuals\n",
    "residuals = y_test - predictions\n"
   ]
  },
  {
   "cell_type": "code",
   "execution_count": 30,
   "id": "16fe9367-7e90-4202-b020-66a9ef98034f",
   "metadata": {},
   "outputs": [
    {
     "ename": "NameError",
     "evalue": "name 'residuals' is not defined",
     "output_type": "error",
     "traceback": [
      "\u001b[1;31m---------------------------------------------------------------------------\u001b[0m",
      "\u001b[1;31mNameError\u001b[0m                                 Traceback (most recent call last)",
      "Cell \u001b[1;32mIn[30], line 2\u001b[0m\n\u001b[0;32m      1\u001b[0m plt\u001b[38;5;241m.\u001b[39mfigure(figsize\u001b[38;5;241m=\u001b[39m(\u001b[38;5;241m12\u001b[39m, \u001b[38;5;241m6\u001b[39m))\n\u001b[1;32m----> 2\u001b[0m plt\u001b[38;5;241m.\u001b[39mhist(\u001b[43mresiduals\u001b[49m, bins\u001b[38;5;241m=\u001b[39m\u001b[38;5;241m30\u001b[39m, color\u001b[38;5;241m=\u001b[39m\u001b[38;5;124m'\u001b[39m\u001b[38;5;124mblue\u001b[39m\u001b[38;5;124m'\u001b[39m, edgecolor\u001b[38;5;241m=\u001b[39m\u001b[38;5;124m'\u001b[39m\u001b[38;5;124mblack\u001b[39m\u001b[38;5;124m'\u001b[39m, alpha\u001b[38;5;241m=\u001b[39m\u001b[38;5;241m0.7\u001b[39m)\n\u001b[0;32m      3\u001b[0m plt\u001b[38;5;241m.\u001b[39mtitle(\u001b[38;5;124m'\u001b[39m\u001b[38;5;124mHistogram of Residuals\u001b[39m\u001b[38;5;124m'\u001b[39m)\n\u001b[0;32m      4\u001b[0m plt\u001b[38;5;241m.\u001b[39mxlabel(\u001b[38;5;124m'\u001b[39m\u001b[38;5;124mResiduals\u001b[39m\u001b[38;5;124m'\u001b[39m)\n",
      "\u001b[1;31mNameError\u001b[0m: name 'residuals' is not defined"
     ]
    },
    {
     "data": {
      "text/plain": [
       "<Figure size 1200x600 with 0 Axes>"
      ]
     },
     "metadata": {},
     "output_type": "display_data"
    }
   ],
   "source": [
    "plt.figure(figsize=(12, 6))\n",
    "plt.hist(residuals, bins=30, color='blue', edgecolor='black', alpha=0.7)\n",
    "plt.title('Histogram of Residuals')\n",
    "plt.xlabel('Residuals')\n",
    "plt.ylabel('Frequency')\n",
    "plt.grid(True)\n",
    "plt.show()\n"
   ]
  },
  {
   "cell_type": "code",
   "execution_count": 32,
   "id": "04c114cc-2001-466e-9c16-139a10d0e75b",
   "metadata": {},
   "outputs": [
    {
     "data": {
      "image/png": "[encoded data removed]",
      "text/plain": [
       "<Figure size 1200x600 with 1 Axes>"
      ]
     },
     "metadata": {},
     "output_type": "display_data"
    },
    {
     "ename": "ValueError",
     "evalue": "x and y must be the same size",
     "output_type": "error",
     "traceback": [
      "\u001b[1;31m---------------------------------------------------------------------------\u001b[0m",
      "\u001b[1;31mValueError\u001b[0m                                Traceback (most recent call last)",
      "Cell \u001b[1;32mIn[32], line 30\u001b[0m\n\u001b[0;32m     28\u001b[0m \u001b[38;5;66;03m# 2. Plot Residuals\u001b[39;00m\n\u001b[0;32m     29\u001b[0m plt\u001b[38;5;241m.\u001b[39mfigure(figsize\u001b[38;5;241m=\u001b[39m(\u001b[38;5;241m12\u001b[39m, \u001b[38;5;241m6\u001b[39m))\n\u001b[1;32m---> 30\u001b[0m \u001b[43mplt\u001b[49m\u001b[38;5;241;43m.\u001b[39;49m\u001b[43mscatter\u001b[49m\u001b[43m(\u001b[49m\u001b[43msample_predictions\u001b[49m\u001b[43m,\u001b[49m\u001b[43m \u001b[49m\u001b[43msample_residuals\u001b[49m\u001b[43m,\u001b[49m\u001b[43m \u001b[49m\u001b[43mcolor\u001b[49m\u001b[38;5;241;43m=\u001b[39;49m\u001b[38;5;124;43m'\u001b[39;49m\u001b[38;5;124;43mblue\u001b[39;49m\u001b[38;5;124;43m'\u001b[39;49m\u001b[43m,\u001b[49m\u001b[43m \u001b[49m\u001b[43mlabel\u001b[49m\u001b[38;5;241;43m=\u001b[39;49m\u001b[38;5;124;43m'\u001b[39;49m\u001b[38;5;124;43mResiduals\u001b[39;49m\u001b[38;5;124;43m'\u001b[39;49m\u001b[43m)\u001b[49m\n\u001b[0;32m     31\u001b[0m plt\u001b[38;5;241m.\u001b[39maxhline(y\u001b[38;5;241m=\u001b[39m\u001b[38;5;241m0\u001b[39m, color\u001b[38;5;241m=\u001b[39m\u001b[38;5;124m'\u001b[39m\u001b[38;5;124mred\u001b[39m\u001b[38;5;124m'\u001b[39m, linestyle\u001b[38;5;241m=\u001b[39m\u001b[38;5;124m'\u001b[39m\u001b[38;5;124m--\u001b[39m\u001b[38;5;124m'\u001b[39m, label\u001b[38;5;241m=\u001b[39m\u001b[38;5;124m'\u001b[39m\u001b[38;5;124mZero Residual Line\u001b[39m\u001b[38;5;124m'\u001b[39m)\n\u001b[0;32m     32\u001b[0m plt\u001b[38;5;241m.\u001b[39mtitle(\u001b[38;5;124m'\u001b[39m\u001b[38;5;124mResiduals Plot\u001b[39m\u001b[38;5;124m'\u001b[39m)\n",
      "File \u001b[1;32m~\\myenv\\Lib\\site-packages\\matplotlib\\pyplot.py:3903\u001b[0m, in \u001b[0;36mscatter\u001b[1;34m(x, y, s, c, marker, cmap, norm, vmin, vmax, alpha, linewidths, edgecolors, plotnonfinite, data, **kwargs)\u001b[0m\n\u001b[0;32m   3884\u001b[0m \u001b[38;5;129m@_copy_docstring_and_deprecators\u001b[39m(Axes\u001b[38;5;241m.\u001b[39mscatter)\n\u001b[0;32m   3885\u001b[0m \u001b[38;5;28;01mdef\u001b[39;00m \u001b[38;5;21mscatter\u001b[39m(\n\u001b[0;32m   3886\u001b[0m     x: \u001b[38;5;28mfloat\u001b[39m \u001b[38;5;241m|\u001b[39m ArrayLike,\n\u001b[1;32m   (...)\u001b[0m\n\u001b[0;32m   3901\u001b[0m     \u001b[38;5;241m*\u001b[39m\u001b[38;5;241m*\u001b[39mkwargs,\n\u001b[0;32m   3902\u001b[0m ) \u001b[38;5;241m-\u001b[39m\u001b[38;5;241m>\u001b[39m PathCollection:\n\u001b[1;32m-> 3903\u001b[0m     __ret \u001b[38;5;241m=\u001b[39m \u001b[43mgca\u001b[49m\u001b[43m(\u001b[49m\u001b[43m)\u001b[49m\u001b[38;5;241;43m.\u001b[39;49m\u001b[43mscatter\u001b[49m\u001b[43m(\u001b[49m\n\u001b[0;32m   3904\u001b[0m \u001b[43m        \u001b[49m\u001b[43mx\u001b[49m\u001b[43m,\u001b[49m\n\u001b[0;32m   3905\u001b[0m \u001b[43m        \u001b[49m\u001b[43my\u001b[49m\u001b[43m,\u001b[49m\n\u001b[0;32m   3906\u001b[0m \u001b[43m        \u001b[49m\u001b[43ms\u001b[49m\u001b[38;5;241;43m=\u001b[39;49m\u001b[43ms\u001b[49m\u001b[43m,\u001b[49m\n\u001b[0;32m   3907\u001b[0m \u001b[43m        \u001b[49m\u001b[43mc\u001b[49m\u001b[38;5;241;43m=\u001b[39;49m\u001b[43mc\u001b[49m\u001b[43m,\u001b[49m\n\u001b[0;32m   3908\u001b[0m \u001b[43m        \u001b[49m\u001b[43mmarker\u001b[49m\u001b[38;5;241;43m=\u001b[39;49m\u001b[43mmarker\u001b[49m\u001b[43m,\u001b[49m\n\u001b[0;32m   3909\u001b[0m \u001b[43m        \u001b[49m\u001b[43mcmap\u001b[49m\u001b[38;5;241;43m=\u001b[39;49m\u001b[43mcmap\u001b[49m\u001b[43m,\u001b[49m\n\u001b[0;32m   3910\u001b[0m \u001b[43m        \u001b[49m\u001b[43mnorm\u001b[49m\u001b[38;5;241;43m=\u001b[39;49m\u001b[43mnorm\u001b[49m\u001b[43m,\u001b[49m\n\u001b[0;32m   3911\u001b[0m \u001b[43m        \u001b[49m\u001b[43mvmin\u001b[49m\u001b[38;5;241;43m=\u001b[39;49m\u001b[43mvmin\u001b[49m\u001b[43m,\u001b[49m\n\u001b[0;32m   3912\u001b[0m \u001b[43m        \u001b[49m\u001b[43mvmax\u001b[49m\u001b[38;5;241;43m=\u001b[39;49m\u001b[43mvmax\u001b[49m\u001b[43m,\u001b[49m\n\u001b[0;32m   3913\u001b[0m \u001b[43m        \u001b[49m\u001b[43malpha\u001b[49m\u001b[38;5;241;43m=\u001b[39;49m\u001b[43malpha\u001b[49m\u001b[43m,\u001b[49m\n\u001b[0;32m   3914\u001b[0m \u001b[43m        \u001b[49m\u001b[43mlinewidths\u001b[49m\u001b[38;5;241;43m=\u001b[39;49m\u001b[43mlinewidths\u001b[49m\u001b[43m,\u001b[49m\n\u001b[0;32m   3915\u001b[0m \u001b[43m        \u001b[49m\u001b[43medgecolors\u001b[49m\u001b[38;5;241;43m=\u001b[39;49m\u001b[43medgecolors\u001b[49m\u001b[43m,\u001b[49m\n\u001b[0;32m   3916\u001b[0m \u001b[43m        \u001b[49m\u001b[43mplotnonfinite\u001b[49m\u001b[38;5;241;43m=\u001b[39;49m\u001b[43mplotnonfinite\u001b[49m\u001b[43m,\u001b[49m\n\u001b[0;32m   3917\u001b[0m \u001b[43m        \u001b[49m\u001b[38;5;241;43m*\u001b[39;49m\u001b[38;5;241;43m*\u001b[39;49m\u001b[43m(\u001b[49m\u001b[43m{\u001b[49m\u001b[38;5;124;43m\"\u001b[39;49m\u001b[38;5;124;43mdata\u001b[39;49m\u001b[38;5;124;43m\"\u001b[39;49m\u001b[43m:\u001b[49m\u001b[43m \u001b[49m\u001b[43mdata\u001b[49m\u001b[43m}\u001b[49m\u001b[43m \u001b[49m\u001b[38;5;28;43;01mif\u001b[39;49;00m\u001b[43m \u001b[49m\u001b[43mdata\u001b[49m\u001b[43m \u001b[49m\u001b[38;5;129;43;01mis\u001b[39;49;00m\u001b[43m \u001b[49m\u001b[38;5;129;43;01mnot\u001b[39;49;00m\u001b[43m \u001b[49m\u001b[38;5;28;43;01mNone\u001b[39;49;00m\u001b[43m \u001b[49m\u001b[38;5;28;43;01melse\u001b[39;49;00m\u001b[43m \u001b[49m\u001b[43m{\u001b[49m\u001b[43m}\u001b[49m\u001b[43m)\u001b[49m\u001b[43m,\u001b[49m\n\u001b[0;32m   3918\u001b[0m \u001b[43m        \u001b[49m\u001b[38;5;241;43m*\u001b[39;49m\u001b[38;5;241;43m*\u001b[39;49m\u001b[43mkwargs\u001b[49m\u001b[43m,\u001b[49m\n\u001b[0;32m   3919\u001b[0m \u001b[43m    \u001b[49m\u001b[43m)\u001b[49m\n\u001b[0;32m   3920\u001b[0m     sci(__ret)\n\u001b[0;32m   3921\u001b[0m     \u001b[38;5;28;01mreturn\u001b[39;00m __ret\n",
      "File \u001b[1;32m~\\myenv\\Lib\\site-packages\\matplotlib\\__init__.py:1473\u001b[0m, in \u001b[0;36m_preprocess_data.<locals>.inner\u001b[1;34m(ax, data, *args, **kwargs)\u001b[0m\n\u001b[0;32m   1470\u001b[0m \u001b[38;5;129m@functools\u001b[39m\u001b[38;5;241m.\u001b[39mwraps(func)\n\u001b[0;32m   1471\u001b[0m \u001b[38;5;28;01mdef\u001b[39;00m \u001b[38;5;21minner\u001b[39m(ax, \u001b[38;5;241m*\u001b[39margs, data\u001b[38;5;241m=\u001b[39m\u001b[38;5;28;01mNone\u001b[39;00m, \u001b[38;5;241m*\u001b[39m\u001b[38;5;241m*\u001b[39mkwargs):\n\u001b[0;32m   1472\u001b[0m     \u001b[38;5;28;01mif\u001b[39;00m data \u001b[38;5;129;01mis\u001b[39;00m \u001b[38;5;28;01mNone\u001b[39;00m:\n\u001b[1;32m-> 1473\u001b[0m         \u001b[38;5;28;01mreturn\u001b[39;00m \u001b[43mfunc\u001b[49m\u001b[43m(\u001b[49m\n\u001b[0;32m   1474\u001b[0m \u001b[43m            \u001b[49m\u001b[43max\u001b[49m\u001b[43m,\u001b[49m\n\u001b[0;32m   1475\u001b[0m \u001b[43m            \u001b[49m\u001b[38;5;241;43m*\u001b[39;49m\u001b[38;5;28;43mmap\u001b[39;49m\u001b[43m(\u001b[49m\u001b[43msanitize_sequence\u001b[49m\u001b[43m,\u001b[49m\u001b[43m \u001b[49m\u001b[43margs\u001b[49m\u001b[43m)\u001b[49m\u001b[43m,\u001b[49m\n\u001b[0;32m   1476\u001b[0m \u001b[43m            \u001b[49m\u001b[38;5;241;43m*\u001b[39;49m\u001b[38;5;241;43m*\u001b[39;49m\u001b[43m{\u001b[49m\u001b[43mk\u001b[49m\u001b[43m:\u001b[49m\u001b[43m \u001b[49m\u001b[43msanitize_sequence\u001b[49m\u001b[43m(\u001b[49m\u001b[43mv\u001b[49m\u001b[43m)\u001b[49m\u001b[43m \u001b[49m\u001b[38;5;28;43;01mfor\u001b[39;49;00m\u001b[43m \u001b[49m\u001b[43mk\u001b[49m\u001b[43m,\u001b[49m\u001b[43m \u001b[49m\u001b[43mv\u001b[49m\u001b[43m \u001b[49m\u001b[38;5;129;43;01min\u001b[39;49;00m\u001b[43m \u001b[49m\u001b[43mkwargs\u001b[49m\u001b[38;5;241;43m.\u001b[39;49m\u001b[43mitems\u001b[49m\u001b[43m(\u001b[49m\u001b[43m)\u001b[49m\u001b[43m}\u001b[49m\u001b[43m)\u001b[49m\n\u001b[0;32m   1478\u001b[0m     bound \u001b[38;5;241m=\u001b[39m new_sig\u001b[38;5;241m.\u001b[39mbind(ax, \u001b[38;5;241m*\u001b[39margs, \u001b[38;5;241m*\u001b[39m\u001b[38;5;241m*\u001b[39mkwargs)\n\u001b[0;32m   1479\u001b[0m     auto_label \u001b[38;5;241m=\u001b[39m (bound\u001b[38;5;241m.\u001b[39marguments\u001b[38;5;241m.\u001b[39mget(label_namer)\n\u001b[0;32m   1480\u001b[0m                   \u001b[38;5;129;01mor\u001b[39;00m bound\u001b[38;5;241m.\u001b[39mkwargs\u001b[38;5;241m.\u001b[39mget(label_namer))\n",
      "File \u001b[1;32m~\\myenv\\Lib\\site-packages\\matplotlib\\axes\\_axes.py:4787\u001b[0m, in \u001b[0;36mAxes.scatter\u001b[1;34m(self, x, y, s, c, marker, cmap, norm, vmin, vmax, alpha, linewidths, edgecolors, plotnonfinite, **kwargs)\u001b[0m\n\u001b[0;32m   4785\u001b[0m y \u001b[38;5;241m=\u001b[39m np\u001b[38;5;241m.\u001b[39mma\u001b[38;5;241m.\u001b[39mravel(y)\n\u001b[0;32m   4786\u001b[0m \u001b[38;5;28;01mif\u001b[39;00m x\u001b[38;5;241m.\u001b[39msize \u001b[38;5;241m!=\u001b[39m y\u001b[38;5;241m.\u001b[39msize:\n\u001b[1;32m-> 4787\u001b[0m     \u001b[38;5;28;01mraise\u001b[39;00m \u001b[38;5;167;01mValueError\u001b[39;00m(\u001b[38;5;124m\"\u001b[39m\u001b[38;5;124mx and y must be the same size\u001b[39m\u001b[38;5;124m\"\u001b[39m)\n\u001b[0;32m   4789\u001b[0m \u001b[38;5;28;01mif\u001b[39;00m s \u001b[38;5;129;01mis\u001b[39;00m \u001b[38;5;28;01mNone\u001b[39;00m:\n\u001b[0;32m   4790\u001b[0m     s \u001b[38;5;241m=\u001b[39m (\u001b[38;5;241m20\u001b[39m \u001b[38;5;28;01mif\u001b[39;00m mpl\u001b[38;5;241m.\u001b[39mrcParams[\u001b[38;5;124m'\u001b[39m\u001b[38;5;124m_internal.classic_mode\u001b[39m\u001b[38;5;124m'\u001b[39m] \u001b[38;5;28;01melse\u001b[39;00m\n\u001b[0;32m   4791\u001b[0m          mpl\u001b[38;5;241m.\u001b[39mrcParams[\u001b[38;5;124m'\u001b[39m\u001b[38;5;124mlines.markersize\u001b[39m\u001b[38;5;124m'\u001b[39m] \u001b[38;5;241m*\u001b[39m\u001b[38;5;241m*\u001b[39m \u001b[38;5;241m2.0\u001b[39m)\n",
      "\u001b[1;31mValueError\u001b[0m: x and y must be the same size"
     ]
    },
    {
     "data": {
      "image/png": "[encoded data removed]",
      "text/plain": [
       "<Figure size 1200x600 with 1 Axes>"
      ]
     },
     "metadata": {},
     "output_type": "display_data"
    }
   ],
   "source": [
    "import numpy as np\n",
    "import pandas as pd\n",
    "import matplotlib.pyplot as plt\n",
    "\n",
    "# Assuming y_test and predictions are numpy arrays or pandas Series\n",
    "sample_size = 10000  # Adjust this based on your available memory\n",
    "\n",
    "# Ensure the sample size is less than the length of your data\n",
    "sample_size = min(sample_size, len(y_test))\n",
    "\n",
    "# Randomly sample the data\n",
    "indices = np.random.choice(len(y_test), size=sample_size, replace=False)\n",
    "sample_y_test = y_test[indices]\n",
    "sample_predictions = predictions[indices]\n",
    "sample_residuals = sample_y_test - sample_predictions\n",
    "\n",
    "# 1. Plot Predicted vs Actual Values\n",
    "plt.figure(figsize=(12, 6))\n",
    "plt.scatter(sample_y_test, sample_predictions, color='blue', label='Predictions')\n",
    "plt.plot([min(sample_y_test), max(sample_y_test)], [min(sample_y_test), max(sample_y_test)], color='red', linestyle='--', label='Perfect Prediction')\n",
    "plt.title('Predicted vs Actual Values')\n",
    "plt.xlabel('Actual Values')\n",
    "plt.ylabel('Predicted Values')\n",
    "plt.legend()\n",
    "plt.grid(True)\n",
    "plt.show()\n",
    "\n",
    "# 2. Plot Residuals\n",
    "plt.figure(figsize=(12, 6))\n",
    "plt.scatter(sample_predictions, sample_residuals, color='blue', label='Residuals')\n",
    "plt.axhline(y=0, color='red', linestyle='--', label='Zero Residual Line')\n",
    "plt.title('Residuals Plot')\n",
    "plt.xlabel('Predicted Values')\n",
    "plt.ylabel('Residuals')\n",
    "plt.legend()\n",
    "plt.grid(True)\n",
    "plt.show()\n",
    "\n",
    "# 3. Plot Histogram of Residuals\n",
    "plt.figure(figsize=(12, 6))\n",
    "plt.hist(sample_residuals, bins=30, color='blue', edgecolor='black', alpha=0.7)\n",
    "plt.title('Histogram of Residuals')\n",
    "plt.xlabel('Residuals')\n",
    "plt.ylabel('Frequency')\n",
    "plt.grid(True)\n",
    "plt.show()\n"
   ]
  },
  {
   "cell_type": "code",
   "execution_count": 33,
   "id": "6cfbba86-cc1a-4400-a4e7-12994b240333",
   "metadata": {},
   "outputs": [
    {
     "name": "stdout",
     "output_type": "stream",
     "text": [
      "         VendorID  pickup_hour  drop_hour  trip_distance  passenger_count  \\\n",
      "0               2            0          1           1.72              1.0   \n",
      "1               1            0          0           1.80              1.0   \n",
      "2               1            0          0           4.70              1.0   \n",
      "3               1            0          0           1.40              1.0   \n",
      "4               1            0          0           0.80              1.0   \n",
      "...           ...          ...        ...            ...              ...   \n",
      "3513391         2           23         23           7.68              1.0   \n",
      "3513392         2           23         23           3.51              1.0   \n",
      "3513393         2           23         23           3.36              1.0   \n",
      "3513394         1           23         23           3.30              3.0   \n",
      "3513396         2           23         23           1.58              1.0   \n",
      "\n",
      "         PULocationID  DOLocationID  payment_type  Condition_Code  \n",
      "0                 186            79             2             5.0  \n",
      "1                 140           236             1             5.0  \n",
      "2                 236            79             1             5.0  \n",
      "3                  79           211             1             5.0  \n",
      "4                 211           148             1             5.0  \n",
      "...               ...           ...           ...             ...  \n",
      "3513391           230           243             1             3.0  \n",
      "3513392           138           129             1             3.0  \n",
      "3513393           162           261             1             3.0  \n",
      "3513394            43           249             1             3.0  \n",
      "3513396           140           263             1             3.0  \n",
      "\n",
      "[3349672 rows x 9 columns]\n"
     ]
    }
   ],
   "source": [
    "print(x)"
   ]
  },
  {
   "cell_type": "code",
   "execution_count": null,
   "id": "8fcd5647-19e7-402f-ad91-c95de9671e50",
   "metadata": {},
   "outputs": [],
   "source": []
  }
 ],
 "metadata": {
  "kernelspec": {
   "display_name": "myenv",
   "language": "python",
   "name": "myenv"
  },
  "language_info": {
   "codemirror_mode": {
    "name": "ipython",
    "version": 3
   },
   "file_extension": ".py",
   "mimetype": "text/x-python",
   "name": "python",
   "nbconvert_exporter": "python",
   "pygments_lexer": "ipython3",
   "version": "3.12.4"
  }
 },
 "nbformat": 4,
 "nbformat_minor": 5
}
